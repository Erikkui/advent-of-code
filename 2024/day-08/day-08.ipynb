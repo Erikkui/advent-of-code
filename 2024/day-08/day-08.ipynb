{
 "cells": [
  {
   "cell_type": "markdown",
   "metadata": {},
   "source": [
    "# Advent of Code 2024\n",
    "## Day 08\n"
   ]
  },
  {
   "cell_type": "markdown",
   "metadata": {},
   "source": [
    "### Part 1"
   ]
  },
  {
   "cell_type": "code",
   "execution_count": 9,
   "metadata": {},
   "outputs": [],
   "source": [
    "import numpy as np\n",
    "\n",
    "filename = 'input.txt'\n",
    "# filename = 'test_input.txt'\n",
    "\n",
    "# data = np.loadtxt(filename, dtype=str )\n",
    "\n",
    "with open(filename) as file:\n",
    "    lines = file.read()\n",
    "    \n",
    "lines = lines.split('\\n')\n",
    "\n",
    "rows = len( lines )\n",
    "cols = len( lines[0] )\n",
    "\n",
    "unique_chars = set( [ char for line in lines for char in line ] )\n",
    "char_to_int = { char:ii for ii,char in enumerate( unique_chars ) }\n",
    "\n",
    "data = np.zeros( (rows, cols), dtype=int )\n",
    "for ii in range( rows ):\n",
    "    for jj in range( cols ):\n",
    "        data[ii, jj] = char_to_int[ lines[ii][jj] ]\n"
   ]
  },
  {
   "cell_type": "code",
   "execution_count": null,
   "metadata": {},
   "outputs": [
    {
     "name": "stdout",
     "output_type": "stream",
     "text": [
      "254\n"
     ]
    }
   ],
   "source": [
    "antenna_locations = []\n",
    "for value in char_to_int.values():\n",
    "    if value == char_to_int['.']:\n",
    "        continue\n",
    "    antenna_temp = np.argwhere( data == value )\n",
    "    antenna_locations.append( antenna_temp )\n",
    "    \n",
    "node_locations = []\n",
    "for antenna_coords in antenna_locations:\n",
    "    for ii, antenna in enumerate( antenna_coords ):\n",
    "        # print(  antenna )\n",
    "        # print(  2*( antenna_coords - antenna ) )\n",
    "        # print(  antenna + antenna_coords, \"\\n\")\n",
    "        node_location = 2*antenna_coords - antenna \n",
    "        # print( antenna, node_location)\n",
    "        # node_location = np.delete( node_location, ii, axis=0 )\n",
    "        \n",
    "        row_check = ( node_location[:, 0] >= 0 ) * ( node_location[:, 0] <= rows ) \n",
    "        col_check = ( node_location[:, 1] >= 0 ) * ( node_location[:, 1] <= cols ) \n",
    "        is_inside = row_check * col_check\n",
    "        is_inside[ ii ] = False\n",
    "        \n",
    "        # print( is_inside )\n",
    "        # print( node_location )\n",
    "        # print( \"Is inside: \", node_location[ is_inside, : ], \"\\n\" )\n",
    "        \n",
    "        for row in node_location[ is_inside, : ]:\n",
    "            node_locations.append( tuple(row) )\n",
    "\n",
    "node_locations_unique = list( set(node_locations) )\n",
    "print( len( node_locations_unique ) )   # 254 too high; 253 too high\n",
    "\n",
    "       \n",
    "\n",
    "\n",
    "            "
   ]
  },
  {
   "cell_type": "markdown",
   "metadata": {},
   "source": [
    "### Part 2"
   ]
  }
 ],
 "metadata": {
  "kernelspec": {
   "display_name": "Python 3",
   "language": "python",
   "name": "python3"
  },
  "language_info": {
   "codemirror_mode": {
    "name": "ipython",
    "version": 3
   },
   "file_extension": ".py",
   "mimetype": "text/x-python",
   "name": "python",
   "nbconvert_exporter": "python",
   "pygments_lexer": "ipython3",
   "version": "3.12.1"
  }
 },
 "nbformat": 4,
 "nbformat_minor": 2
}
