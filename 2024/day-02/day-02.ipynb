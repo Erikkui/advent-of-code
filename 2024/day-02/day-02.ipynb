{
 "cells": [
  {
   "cell_type": "markdown",
   "metadata": {},
   "source": [
    "# Advent of Code 2024\n",
    "## Day 02\n"
   ]
  },
  {
   "cell_type": "code",
   "execution_count": 50,
   "metadata": {},
   "outputs": [],
   "source": [
    "import numpy as np\n",
    "\n",
    "# data = np.loadtxt( 'input.txt', dtype=int )\n",
    "\n",
    "with open('input.txt') as file:\n",
    "    lines = file.readlines()"
   ]
  },
  {
   "cell_type": "markdown",
   "metadata": {},
   "source": [
    "### Part 1"
   ]
  },
  {
   "cell_type": "code",
   "execution_count": 51,
   "metadata": {},
   "outputs": [
    {
     "name": "stdout",
     "output_type": "stream",
     "text": [
      "Safe reports:  564\n"
     ]
    }
   ],
   "source": [
    "safe_report = 0\n",
    "for line in lines:\n",
    "    line_values = np.array( line.split(), dtype = np.float32 )\n",
    "    diffs = np.diff( line_values )\n",
    "    \n",
    "    is_monotone = ( diffs > 0 ).all() or ( diffs < 0 ).all()\n",
    "    no_big_diffs = ( np.abs( diffs ) > 0 ).all() and ( np.abs( diffs ) < 4 ).all()\n",
    "    \n",
    "    if is_monotone and no_big_diffs:\n",
    "        safe_report += 1\n",
    "    \n",
    "print( \"Safe reports: \", safe_report )"
   ]
  },
  {
   "cell_type": "markdown",
   "metadata": {},
   "source": [
    "### Part 2"
   ]
  },
  {
   "cell_type": "code",
   "execution_count": null,
   "metadata": {},
   "outputs": [
    {
     "name": "stdout",
     "output_type": "stream",
     "text": [
      "Safe reports:  604\n"
     ]
    }
   ],
   "source": [
    "safe_report = 0\n",
    "for line in lines:\n",
    "    line_values = np.array( line.split(), dtype = np.float32 )\n",
    "    diffs = np.diff( line_values )\n",
    "    \n",
    "    is_monotone = ( diffs > 0 ).all() or ( diffs < 0 ).all()\n",
    "    no_big_diffs = ( np.abs( diffs ) > 0 ).all() and ( np.abs( diffs ) < 4 ).all()\n",
    "    \n",
    "    if is_monotone and no_big_diffs:\n",
    "        safe_report += 1\n",
    "        \n",
    "    else:   # Remove numbers one at a time and check if report becomes safe\n",
    "        N = len( line_values )\n",
    "    \n",
    "        for ii in range(N):\n",
    "            line_values_temp = np.delete( line_values, ii )\n",
    "            diffs = np.diff( line_values_temp )\n",
    "            \n",
    "            is_monotone = ( diffs > 0 ).all() or ( diffs < 0 ).all()\n",
    "            no_big_diffs = ( np.abs( diffs ) > 0 ).all() and ( np.abs( diffs ) < 4 ).all()\n",
    "    \n",
    "            if is_monotone and no_big_diffs:\n",
    "                safe_report += 1\n",
    "                break\n",
    "         \n",
    "print( \"Safe reports: \", safe_report )"
   ]
  }
 ],
 "metadata": {
  "kernelspec": {
   "display_name": "Python 3",
   "language": "python",
   "name": "python3"
  },
  "language_info": {
   "codemirror_mode": {
    "name": "ipython",
    "version": 3
   },
   "file_extension": ".py",
   "mimetype": "text/x-python",
   "name": "python",
   "nbconvert_exporter": "python",
   "pygments_lexer": "ipython3",
   "version": "3.10.12"
  }
 },
 "nbformat": 4,
 "nbformat_minor": 2
}
