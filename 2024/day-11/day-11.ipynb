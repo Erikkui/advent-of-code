{
 "cells": [
  {
   "cell_type": "markdown",
   "metadata": {},
   "source": [
    "# Advent of Code 2024\n",
    "## Day 11\n",
    "\n"
   ]
  },
  {
   "cell_type": "markdown",
   "metadata": {},
   "source": [
    "### Part 1"
   ]
  },
  {
   "cell_type": "code",
   "execution_count": 22,
   "metadata": {},
   "outputs": [],
   "source": [
    "import numpy as np\n",
    "filename = \"input.txt\"\n",
    "# filename = \"test_input.txt\"\n",
    "\n",
    "with open( filename ) as file:\n",
    "    data = file.read()\n",
    "   \n",
    "stones_old = data.split(\" \")"
   ]
  },
  {
   "cell_type": "code",
   "execution_count": 23,
   "metadata": {},
   "outputs": [
    {
     "name": "stdout",
     "output_type": "stream",
     "text": [
      "183248\n"
     ]
    }
   ],
   "source": [
    "for ii in range(25):    \n",
    "    stones = []\n",
    "    for stone in stones_old:\n",
    "        \n",
    "        if int( stone ) == 0:\n",
    "            new_stone = \"1\"\n",
    "            stones.append( new_stone )\n",
    "            \n",
    "        elif len( stone ) % 2 == 0:\n",
    "            half_stone_len = len( stone )//2\n",
    "            new_stone_1 = stone[ :half_stone_len ].lstrip(\"0\")\n",
    "            new_stone_2 = stone[ half_stone_len: ].lstrip(\"0\")\n",
    "            if new_stone_2 == \"\":\n",
    "                new_stone_2 = \"0\"\n",
    "                \n",
    "            stones.append( new_stone_1 )\n",
    "            stones.append( new_stone_2 )\n",
    "        \n",
    "        else:\n",
    "            new_stone = int( stone )*2024\n",
    "            stones.append( str(new_stone) )\n",
    "    \n",
    "    stones_old = stones\n",
    "    \n",
    "print( len( stones ) )"
   ]
  },
  {
   "cell_type": "markdown",
   "metadata": {},
   "source": [
    "### Part 2"
   ]
  },
  {
   "cell_type": "code",
   "execution_count": 18,
   "metadata": {},
   "outputs": [
    {
     "name": "stdout",
     "output_type": "stream",
     "text": [
      "183248\n"
     ]
    }
   ],
   "source": [
    "stones_old = data.split(\" \")\n",
    "\n",
    "\n",
    "\n",
    "\n",
    "\n",
    "stone_number = 0\n",
    "for stone in stones_old:\n",
    "    for ii in range(75):    \n",
    "        if int( stone ) == 0:\n",
    "            new_stone = \"1\"\n",
    "            stone_number += 1\n",
    "            \n",
    "        elif len( stone ) % 2 == 0:\n",
    "            half_stone_len = len( stone )//2\n",
    "            new_stone_1 = stone[ :half_stone_len ].lstrip(\"0\")\n",
    "            new_stone_2 = stone[ half_stone_len: ].lstrip(\"0\")\n",
    "            if new_stone_2 == \"\":\n",
    "                new_stone_2 = \"0\"\n",
    "                \n",
    "            stone_number += 1\n",
    "            stone_number += 1\n",
    "        \n",
    "        else:\n",
    "            new_stone = int( stone )*2024\n",
    "            stone_number += 1\n",
    "    \n",
    "\n",
    "    \n",
    "print( len( stones ) )"
   ]
  }
 ],
 "metadata": {
  "kernelspec": {
   "display_name": "default",
   "language": "python",
   "name": "python3"
  },
  "language_info": {
   "codemirror_mode": {
    "name": "ipython",
    "version": 3
   },
   "file_extension": ".py",
   "mimetype": "text/x-python",
   "name": "python",
   "nbconvert_exporter": "python",
   "pygments_lexer": "ipython3",
   "version": "3.12.8"
  }
 },
 "nbformat": 4,
 "nbformat_minor": 2
}
