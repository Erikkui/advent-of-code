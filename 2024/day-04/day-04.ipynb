{
 "cells": [
  {
   "cell_type": "markdown",
   "metadata": {},
   "source": [
    "# Advent of Code 2024\n",
    "## Day 04\n",
    "\n"
   ]
  },
  {
   "cell_type": "markdown",
   "metadata": {},
   "source": [
    "### Part 1"
   ]
  },
  {
   "cell_type": "code",
   "execution_count": 37,
   "metadata": {},
   "outputs": [
    {
     "data": {
      "text/plain": [
       "['MMMSXXMASM',\n",
       " 'MSAMXMSMSA',\n",
       " 'AMXSXMAAMM',\n",
       " 'MSAMASMSMX',\n",
       " 'XMASAMXAMM',\n",
       " 'XXAMMXXAMA',\n",
       " 'SMSMSASXSS',\n",
       " 'SAXAMASAAA',\n",
       " 'MAMMMXMMMM',\n",
       " 'MXMXAXMASX']"
      ]
     },
     "execution_count": 37,
     "metadata": {},
     "output_type": "execute_result"
    }
   ],
   "source": [
    "filename = 'input.txt'\n",
    "filename = 'test_input.txt'\n",
    "\n",
    "with open( filename ) as file:\n",
    "    lines = file.readlines()\n",
    "    \n",
    "lines = [ line.strip() for line in lines ]\n",
    "lines"
   ]
  },
  {
   "cell_type": "code",
   "execution_count": 38,
   "metadata": {},
   "outputs": [
    {
     "data": {
      "text/plain": [
       "array([[2, 2, 2, 4, 1, 1, 2, 3, 4, 2],\n",
       "       [2, 4, 3, 2, 1, 2, 4, 2, 4, 3],\n",
       "       [3, 2, 1, 4, 1, 2, 3, 3, 2, 2],\n",
       "       [2, 4, 3, 2, 3, 4, 2, 4, 2, 1],\n",
       "       [1, 2, 3, 4, 3, 2, 1, 3, 2, 2],\n",
       "       [1, 1, 3, 2, 2, 1, 1, 3, 2, 3],\n",
       "       [4, 2, 4, 2, 4, 3, 4, 1, 4, 4],\n",
       "       [4, 3, 1, 3, 2, 3, 4, 3, 3, 3],\n",
       "       [2, 3, 2, 2, 2, 1, 2, 2, 2, 2],\n",
       "       [2, 1, 2, 1, 3, 1, 2, 3, 4, 1]])"
      ]
     },
     "execution_count": 38,
     "metadata": {},
     "output_type": "execute_result"
    }
   ],
   "source": [
    "import numpy as np\n",
    "\n",
    "number_of_lines = len( lines )\n",
    "elems_per_line = len( lines[1] )\n",
    "array = np.zeros( (number_of_lines, elems_per_line), dtype=int )\n",
    "\n",
    "for ii in range( number_of_lines ):\n",
    "    for jj in range( elems_per_line ):\n",
    "\n",
    "        if lines[ii][jj] == \"X\":\n",
    "            array[ii, jj] = 1\n",
    "        elif lines[ii][jj] == \"M\":\n",
    "            array[ii, jj] = 2\n",
    "        elif lines[ii][jj] == \"A\":\n",
    "            array[ii, jj] = 3\n",
    "        elif lines[ii][jj] == \"S\":\n",
    "            array[ii, jj] = 4\n",
    "array"
   ]
  },
  {
   "cell_type": "code",
   "execution_count": 39,
   "metadata": {},
   "outputs": [
    {
     "data": {
      "text/plain": [
       "5"
      ]
     },
     "execution_count": 39,
     "metadata": {},
     "output_type": "execute_result"
    }
   ],
   "source": [
    "X_inds = np.where( array == 1 )\n",
    "\n",
    "xmas_count = 0\n",
    "for ii, jj in zip( X_inds[0], X_inds[1] ):\n",
    "    \n",
    "    try:\n",
    "        # Ifs for l-r xmas\n",
    "        if array[ii, jj+1] == 2:\n",
    "            if array[ii, jj+2] == 3:\n",
    "                if array[ii, jj+3] == 4:\n",
    "                    xmas_count += 1\n",
    "                    \n",
    "        # Ifs for r-l xmas\n",
    "        if array[ii, jj-1] == 2:\n",
    "            if array[ii, jj-2] == 3:\n",
    "                if array[ii, jj-3] == 4:\n",
    "                    xmas_count += 1\n",
    "                    \n",
    "        # Ifs for u-d xmas\n",
    "        if array[ii+1, jj] == 2:\n",
    "            if array[ii+1, jj] == 3:\n",
    "                if array[ii+1, jj] == 4:\n",
    "                    xmas_count += 1\n",
    "                    \n",
    "        # Ifs for d-u xmas\n",
    "        if array[ii-1, jj] == 2:\n",
    "            if array[ii-1, jj] == 3:\n",
    "                if array[ii-1, jj] == 4:\n",
    "                    xmas_count += 1\n",
    "                    \n",
    "        # Ifs for NE xmas\n",
    "        if array[ii+1, jj+1] == 2:\n",
    "            if array[ii+1, jj+1] == 3:\n",
    "                if array[ii+1, jj+1] == 4:\n",
    "                    xmas_count += 1\n",
    "\n",
    "        # Ifs for NW xmas\n",
    "        if array[ii+1, jj-1] == 2:\n",
    "            if array[ii+1, jj-1] == 3:\n",
    "                if array[ii+1, jj-1] == 4:\n",
    "                    xmas_count += 1\n",
    "                    \n",
    "        # Ifs for SE xmas\n",
    "        if array[ii-1, jj+1] == 2:\n",
    "            if array[ii-1, jj+1] == 3:\n",
    "                if array[ii-1, jj+1] == 4:\n",
    "                    xmas_count += 1\n",
    "                    \n",
    "        # Ifs for SW xmas\n",
    "        if array[ii-1, jj-1] == 2:\n",
    "            if array[ii-1, jj-1] == 3:\n",
    "                if array[ii-1, jj-1] == 4:\n",
    "                    xmas_count += 1\n",
    "                    \n",
    "    except IndexError:\n",
    "        pass\n",
    "                    \n",
    "xmas_count\n",
    "        "
   ]
  },
  {
   "cell_type": "markdown",
   "metadata": {},
   "source": [
    "### Part 2"
   ]
  },
  {
   "cell_type": "code",
   "execution_count": null,
   "metadata": {},
   "outputs": [],
   "source": []
  }
 ],
 "metadata": {
  "kernelspec": {
   "display_name": "Python 3",
   "language": "python",
   "name": "python3"
  },
  "language_info": {
   "codemirror_mode": {
    "name": "ipython",
    "version": 3
   },
   "file_extension": ".py",
   "mimetype": "text/x-python",
   "name": "python",
   "nbconvert_exporter": "python",
   "pygments_lexer": "ipython3",
   "version": "3.12.1"
  }
 },
 "nbformat": 4,
 "nbformat_minor": 2
}
