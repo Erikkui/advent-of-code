{
 "cells": [
  {
   "cell_type": "markdown",
   "metadata": {},
   "source": [
    "# Advent of Code 2024\n",
    "## Day 04\n",
    "\n"
   ]
  },
  {
   "cell_type": "markdown",
   "metadata": {},
   "source": [
    "### Part 1"
   ]
  },
  {
   "cell_type": "code",
   "execution_count": 83,
   "metadata": {},
   "outputs": [],
   "source": [
    "import numpy as np\n",
    "\n",
    "filename = 'input.txt'\n",
    "# filename = 'test_input.txt'\n",
    "\n",
    "with open( filename ) as file:\n",
    "    lines = file.readlines()\n",
    "    \n",
    "lines = [ line.strip() for line in lines ]\n",
    "\n",
    "number_of_lines = len( lines )\n",
    "elems_per_line = len( lines[1] )\n",
    "array = np.zeros( (number_of_lines, elems_per_line), dtype=int )\n",
    "\n",
    "for ii, line in enumerate( lines ):\n",
    "    for jj, _ in enumerate( line ):\n",
    "\n",
    "        if lines[ii][jj] == \"X\":\n",
    "            array[ii, jj] = 1\n",
    "        elif lines[ii][jj] == \"M\":\n",
    "            array[ii, jj] = 2\n",
    "        elif lines[ii][jj] == \"A\":\n",
    "            array[ii, jj] = 3\n",
    "        elif lines[ii][jj] == \"S\":\n",
    "            array[ii, jj] = 4\n",
    "        else:\n",
    "            array[ii, jj] = 0\n",
    "            print( \"Unknown character\" )"
   ]
  },
  {
   "cell_type": "code",
   "execution_count": null,
   "metadata": {},
   "outputs": [
    {
     "data": {
      "text/plain": [
       "2434"
      ]
     },
     "execution_count": 84,
     "metadata": {},
     "output_type": "execute_result"
    }
   ],
   "source": [
    "X_inds = np.where( array == 1 )\n",
    "\n",
    "xmas_count = 0\n",
    "for ii, jj in zip( X_inds[0], X_inds[1] ):\n",
    "\n",
    "    # left to right \n",
    "    try:\n",
    "        if array[ii, jj+1] == 2:\n",
    "            if array[ii, jj+2] == 3:\n",
    "                if array[ii, jj+3] == 4:\n",
    "                    xmas_count += 1\n",
    "    except IndexError:\n",
    "        pass                \n",
    "    \n",
    "    # right to left\n",
    "    try:                \n",
    "        if array[ii, jj-1] == 2 and jj-1 >= 0:\n",
    "            if array[ii, jj-2] == 3 and jj-2 >= 0:\n",
    "                if array[ii, jj-3] == 4 and jj-3 >= 0:\n",
    "                    xmas_count += 1\n",
    "    except IndexError:\n",
    "        pass\n",
    "     \n",
    "    # up to down\n",
    "    try:\n",
    "        if array[ii+1, jj] == 2:\n",
    "            if array[ii+2, jj] == 3:\n",
    "                if array[ii+3, jj] == 4:\n",
    "                    xmas_count += 1\n",
    "    except IndexError:\n",
    "        pass\n",
    "    \n",
    "    # down to up                \n",
    "    try:                \n",
    "        if array[ii-1, jj] == 2 and ii-1 >= 0:\n",
    "            if array[ii-2, jj] == 3 and ii-2 >= 0:\n",
    "                if array[ii-3, jj] == 4 and ii-3 >= 0:\n",
    "                    xmas_count += 1\n",
    "    except IndexError:\n",
    "        pass\n",
    "    \n",
    "    # diagonal up-right\n",
    "    try:                \n",
    "        if array[ii-1, jj+1] == 2 and ii-1 >= 0:\n",
    "            if array[ii-2, jj+2] == 3 and ii-2 >= 0:\n",
    "                if array[ii-3, jj+3] == 4 and ii-3 >= 0:\n",
    "                    xmas_count += 1\n",
    "    except IndexError:\n",
    "        pass\n",
    "    \n",
    "    # diagonal up-left\n",
    "    try:\n",
    "        if array[ii-1, jj-1] == 2 and ii-1 >= 0 and jj-1 >= 0:\n",
    "            if array[ii-2, jj-2] == 3 and ii-2 >= 0 and jj-2 >= 0:\n",
    "                if array[ii-3, jj-3] == 4 and ii-3 >= 0 and jj-3 >= 0:\n",
    "                    xmas_count += 1\n",
    "    except IndexError:\n",
    "        pass                \n",
    "    \n",
    "    # diagonal down-right                \n",
    "    try:                \n",
    "        if array[ii+1, jj+1] == 2:\n",
    "            if array[ii+2, jj+2] == 3:\n",
    "                if array[ii+3, jj+3] == 4:\n",
    "                    xmas_count += 1\n",
    "    except IndexError:\n",
    "        pass                \n",
    "    \n",
    "    # diagonl down-left                \n",
    "    try:                \n",
    "        if array[ii+1, jj-1] == 2 and jj-1 >= 0:\n",
    "            if array[ii+2, jj-2] == 3 and jj-2 >= 0:\n",
    "                if array[ii+3, jj-3] == 4 and jj-3 >= 0:\n",
    "                    xmas_count += 1\n",
    "    except IndexError:\n",
    "        pass                 \n",
    "    \n",
    "xmas_count  #2265 too low, 2450 too high; 2437 wrong; 2434\n",
    "        "
   ]
  },
  {
   "cell_type": "markdown",
   "metadata": {},
   "source": [
    "### Part 2"
   ]
  },
  {
   "cell_type": "code",
   "execution_count": null,
   "metadata": {},
   "outputs": [
    {
     "data": {
      "text/plain": [
       "1835"
      ]
     },
     "execution_count": 85,
     "metadata": {},
     "output_type": "execute_result"
    }
   ],
   "source": [
    "A_inds = np.where( array == 3 )\n",
    "\n",
    "x_mas_count = 0;\n",
    "for ii, jj in zip( A_inds[0], A_inds[1] ):\n",
    "    \n",
    "    # Testing for M - M; - A -; S - S\n",
    "    try:\n",
    "        if array[ii-1][jj-1] == 2 and ii-1 >= 0 and jj-1 >= 0:\n",
    "            if array[ii-1][jj+1] == 2 and ii-1 >= 0:\n",
    "                if array[ii+1][jj-1] == 4 and jj-1 >= 0:\n",
    "                    if array[ii+1][jj+1] == 4:\n",
    "                        x_mas_count += 1\n",
    "    except IndexError:\n",
    "        pass\n",
    "    \n",
    "    # Testing for S - S; - A -; M - M\n",
    "    try:\n",
    "        if array[ii-1][jj-1] == 4 and ii-1 >= 0 and jj-1 >= 0:\n",
    "            if array[ii-1][jj+1] == 4 and ii-1 >= 0:\n",
    "                if array[ii+1][jj-1] == 2 and jj-1 >= 0:\n",
    "                    if array[ii+1][jj+1] == 2:\n",
    "                        x_mas_count += 1\n",
    "    except IndexError:\n",
    "        pass\n",
    "    \n",
    "    # Testing for M - S; - A -; M - S\n",
    "    try:\n",
    "        if array[ii-1][jj-1] == 2 and ii-1 >= 0 and jj-1 >= 0:\n",
    "            if array[ii-1][jj+1] == 4 and ii-1 >= 0:\n",
    "                if array[ii+1][jj-1] == 2 and jj-1 >= 0:\n",
    "                    if array[ii+1][jj+1] == 4:\n",
    "                        x_mas_count += 1\n",
    "    except IndexError:\n",
    "        pass\n",
    "    \n",
    "    # Testing for S - M; - A -; S - M\n",
    "    try:\n",
    "        if array[ii-1][jj-1] == 4 and ii-1 >= 0 and jj-1 >= 0:\n",
    "            if array[ii-1][jj+1] == 2 and ii-1 >= 0:\n",
    "                if array[ii+1][jj-1] == 4 and jj-1 >= 0:\n",
    "                    if array[ii+1][jj+1] == 2:\n",
    "                        x_mas_count += 1\n",
    "    except IndexError:\n",
    "        pass\n",
    "    \n",
    "x_mas_count     # 1821 wrong; 1835\n",
    "    "
   ]
  },
  {
   "cell_type": "code",
   "execution_count": null,
   "metadata": {},
   "outputs": [],
   "source": []
  }
 ],
 "metadata": {
  "kernelspec": {
   "display_name": "Python 3",
   "language": "python",
   "name": "python3"
  },
  "language_info": {
   "codemirror_mode": {
    "name": "ipython",
    "version": 3
   },
   "file_extension": ".py",
   "mimetype": "text/x-python",
   "name": "python",
   "nbconvert_exporter": "python",
   "pygments_lexer": "ipython3",
   "version": "3.12.1"
  }
 },
 "nbformat": 4,
 "nbformat_minor": 2
}
