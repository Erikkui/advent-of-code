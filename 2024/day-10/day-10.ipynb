{
 "cells": [
  {
   "cell_type": "markdown",
   "metadata": {},
   "source": [
    "# Advent of Code 2024\n",
    "## Day 10\n"
   ]
  },
  {
   "cell_type": "markdown",
   "metadata": {},
   "source": [
    "### Part 1"
   ]
  },
  {
   "cell_type": "code",
   "execution_count": 24,
   "metadata": {},
   "outputs": [
    {
     "data": {
      "text/plain": [
       "array([[8., 9., 0., 1., 0., 1., 2., 3.],\n",
       "       [7., 8., 1., 2., 1., 8., 7., 4.],\n",
       "       [8., 7., 4., 3., 0., 9., 6., 5.],\n",
       "       [9., 6., 5., 4., 9., 8., 7., 4.],\n",
       "       [4., 5., 6., 7., 8., 9., 0., 3.],\n",
       "       [3., 2., 0., 1., 9., 0., 1., 2.],\n",
       "       [0., 1., 3., 2., 9., 8., 0., 1.],\n",
       "       [1., 0., 4., 5., 6., 7., 3., 2.]])"
      ]
     },
     "execution_count": 24,
     "metadata": {},
     "output_type": "execute_result"
    }
   ],
   "source": [
    "import numpy as np\n",
    "filename = \"input.txt\"\n",
    "filename = \"test_input.txt\"\n",
    "\n",
    "with open( filename ) as file:\n",
    "    data = file.read()\n",
    "   \n",
    "data = data.split(\"\\n\")\n",
    "\n",
    "rows = len( data )\n",
    "cols = len( data[0] )\n",
    "\n",
    "mat = np.zeros( (rows, cols) )\n",
    "\n",
    "for ii in range( rows ):\n",
    "    for jj in range( cols ):\n",
    "        mat[ii, jj] = data[ii][jj]"
   ]
  },
  {
   "cell_type": "code",
   "execution_count": null,
   "metadata": {},
   "outputs": [
    {
     "name": "stdout",
     "output_type": "stream",
     "text": [
      "[(np.int64(0), np.int64(1)), (np.int64(0), np.int64(3)), (np.int64(1), np.int64(1)), (np.int64(1), np.int64(2)), (np.int64(1), np.int64(3))]\n",
      "[(np.int64(0), np.int64(3)), (np.int64(0), np.int64(5)), (np.int64(1), np.int64(3)), (np.int64(1), np.int64(4)), (np.int64(1), np.int64(5))]\n",
      "[(np.int64(1), np.int64(3)), (np.int64(1), np.int64(4)), (np.int64(1), np.int64(5)), (np.int64(2), np.int64(3)), (np.int64(2), np.int64(5)), (np.int64(3), np.int64(3)), (np.int64(3), np.int64(4)), (np.int64(3), np.int64(5))]\n",
      "[(np.int64(3), np.int64(5)), (np.int64(3), np.int64(6)), (np.int64(3), np.int64(7)), (np.int64(4), np.int64(5)), (np.int64(4), np.int64(7)), (np.int64(5), np.int64(6)), (np.int64(5), np.int64(7))]\n",
      "[(np.int64(4), np.int64(1)), (np.int64(4), np.int64(2)), (np.int64(4), np.int64(3)), (np.int64(5), np.int64(1)), (np.int64(5), np.int64(3)), (np.int64(6), np.int64(1)), (np.int64(6), np.int64(2)), (np.int64(6), np.int64(3))]\n",
      "[(np.int64(4), np.int64(4)), (np.int64(4), np.int64(5)), (np.int64(5), np.int64(4)), (np.int64(5), np.int64(6)), (np.int64(6), np.int64(4)), (np.int64(6), np.int64(5))]\n",
      "[(np.int64(5), np.int64(0)), (np.int64(5), np.int64(1)), (np.int64(6), np.int64(1)), (np.int64(7), np.int64(0))]\n",
      "[(np.int64(5), np.int64(6)), (np.int64(5), np.int64(7)), (np.int64(6), np.int64(5)), (np.int64(6), np.int64(7)), (np.int64(7), np.int64(5)), (np.int64(7), np.int64(6)), (np.int64(7), np.int64(7))]\n",
      "[(np.int64(6), np.int64(1)), (np.int64(6), np.int64(2)), (np.int64(7), np.int64(0)), (np.int64(7), np.int64(2))]\n"
     ]
    }
   ],
   "source": [
    "def get_neighbors( x, y, mat ):\n",
    "    neighbors = []\n",
    "    for ii in range( -1, 2 ):\n",
    "        for jj in range( -1, 2 ):\n",
    "            if ii == 0 and jj == 0:\n",
    "                continue\n",
    "            if x + ii < 0 or x + ii >= mat.shape[0]:\n",
    "                continue\n",
    "            if y + jj < 0 or y + jj >= mat.shape[1]:\n",
    "                continue\n",
    "            if mat[ x + ii, y + jj ] == 0:\n",
    "                continue\n",
    "            if ii == jj or ii == -jj:\n",
    "                continue\n",
    "            neighbors.append( (x + ii, y + jj) )\n",
    "    return neighbors\n",
    "\n",
    "trailheads = np.argwhere( mat == 0 )\n",
    "trailheads = [ tuple( x ) for x in trailheads ]\n",
    "\n",
    "trails = []\n",
    "for ii, head in enumerate( trailheads ):\n",
    "\n",
    "    x, y = head\n",
    "    val = mat[ x, y ]\n",
    "       \n",
    "    trails.append( [x, y, val])\n",
    "    \n",
    "    neighbors = get_neighbors( x, y, mat )\n",
    "    \n",
    "    print( neighbors )\n",
    "    \n",
    "    \n",
    "    \n",
    "    "
   ]
  },
  {
   "cell_type": "markdown",
   "metadata": {},
   "source": [
    "### Part 2"
   ]
  }
 ],
 "metadata": {
  "kernelspec": {
   "display_name": "Python 3",
   "language": "python",
   "name": "python3"
  },
  "language_info": {
   "codemirror_mode": {
    "name": "ipython",
    "version": 3
   },
   "file_extension": ".py",
   "mimetype": "text/x-python",
   "name": "python",
   "nbconvert_exporter": "python",
   "pygments_lexer": "ipython3",
   "version": "3.10.12"
  }
 },
 "nbformat": 4,
 "nbformat_minor": 2
}
