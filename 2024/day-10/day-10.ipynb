{
 "cells": [
  {
   "cell_type": "markdown",
   "metadata": {},
   "source": [
    "# Advent of Code 2024\n",
    "## Day 10\n"
   ]
  },
  {
   "cell_type": "markdown",
   "metadata": {},
   "source": [
    "### Part 1"
   ]
  },
  {
   "cell_type": "code",
   "execution_count": 15,
   "metadata": {},
   "outputs": [],
   "source": [
    "import numpy as np\n",
    "filename = \"input.txt\"\n",
    "# filename = \"test_input.txt\"\n",
    "\n",
    "with open( filename ) as file:\n",
    "    data = file.read()\n",
    "   \n",
    "data = data.split(\"\\n\")\n",
    "\n",
    "rows = len( data )\n",
    "cols = len( data[0] )\n",
    "\n",
    "mat = np.zeros( (rows, cols) )\n",
    "\n",
    "for ii in range( rows ):\n",
    "    for jj in range( cols ):\n",
    "        mat[ii, jj] = data[ii][jj]\n",
    "        \n",
    "LEVEL = \"silver\""
   ]
  },
  {
   "cell_type": "code",
   "execution_count": 16,
   "metadata": {},
   "outputs": [
    {
     "data": {
      "text/plain": [
       "496"
      ]
     },
     "execution_count": 16,
     "metadata": {},
     "output_type": "execute_result"
    }
   ],
   "source": [
    "DIRS = [ (-1, 0), (0, 1), (1, 0), (0, -1) ]\n",
    "def get_neighbors( y, x, mat, endpoints ):  \n",
    "    elem = mat[ y, x ]\n",
    "    if elem == 9:\n",
    "        return endpoints\n",
    "    \n",
    "    neighbors = []\n",
    "    for d, direction in enumerate( DIRS):\n",
    "        ii, jj = direction\n",
    "        \n",
    "        if y + ii < 0 or y + ii >= mat.shape[0]:    # rows out of bounds\n",
    "            continue\n",
    "        if x + jj < 0 or x + jj >= mat.shape[1]:    # cols out of bounds\n",
    "            continue\n",
    "        if ii == jj or ii == -jj:   # skip diagonal neighbors and self\n",
    "            continue\n",
    "        \n",
    "        neigh_elem = mat[ y+ii, x+jj ]\n",
    "        if neigh_elem != elem + 1:   # Check if neighbor is exactly +1 higher \n",
    "            continue\n",
    "        if  neigh_elem == 9:\n",
    "            # print( \"end found\" )\n",
    "            lin_ind = (x+jj)*mat.shape[0] + (y+ii)\n",
    "            if LEVEL == \"silver\":\n",
    "                if lin_ind in endpoints:\n",
    "                    continue\n",
    "                \n",
    "            endpoints.append( lin_ind )\n",
    "            \n",
    "            if d == 3:\n",
    "                return endpoints\n",
    "                    \n",
    "        neighbors.append( (y+ii, x+jj, neigh_elem) )\n",
    "     \n",
    "    for neighbor in neighbors:\n",
    "        # print( \"rec\" )\n",
    "        endpoints = get_neighbors( neighbor[0], neighbor[1], mat, endpoints )\n",
    "    \n",
    "    return endpoints\n",
    "\n",
    "trailheads = np.argwhere( mat == 0 )\n",
    "trailheads = [ tuple( x ) for x in trailheads ]\n",
    "\n",
    "ans = 0\n",
    "for ii, head in enumerate( trailheads ):\n",
    "    x, y = head\n",
    "    val = mat[ x, y ]\n",
    "       \n",
    "    # trails.append( [x, y, val])\n",
    "    endpoints = []\n",
    "    endpoints = get_neighbors( x, y, mat, endpoints )\n",
    "    \n",
    "    ans += len( endpoints )\n",
    "    \n",
    "ans"
   ]
  },
  {
   "cell_type": "markdown",
   "metadata": {},
   "source": [
    "### Part 2"
   ]
  },
  {
   "cell_type": "code",
   "execution_count": 17,
   "metadata": {},
   "outputs": [
    {
     "data": {
      "text/plain": [
       "1120"
      ]
     },
     "execution_count": 17,
     "metadata": {},
     "output_type": "execute_result"
    }
   ],
   "source": [
    "LEVEL = \"gold\"\n",
    "\n",
    "ans = 0\n",
    "for ii, head in enumerate( trailheads ):\n",
    "    x, y = head\n",
    "    val = mat[ x, y ]\n",
    "       \n",
    "    # trails.append( [x, y, val])\n",
    "    endpoints = []\n",
    "    endpoints = get_neighbors( x, y, mat, endpoints )\n",
    "    \n",
    "    ans += len( endpoints )\n",
    "    \n",
    "ans\n"
   ]
  }
 ],
 "metadata": {
  "kernelspec": {
   "display_name": "default",
   "language": "python",
   "name": "python3"
  },
  "language_info": {
   "codemirror_mode": {
    "name": "ipython",
    "version": 3
   },
   "file_extension": ".py",
   "mimetype": "text/x-python",
   "name": "python",
   "nbconvert_exporter": "python",
   "pygments_lexer": "ipython3",
   "version": "3.12.8"
  }
 },
 "nbformat": 4,
 "nbformat_minor": 2
}
