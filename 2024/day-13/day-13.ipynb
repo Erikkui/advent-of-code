{
 "cells": [
  {
   "cell_type": "markdown",
   "metadata": {},
   "source": [
    "# Advent of Code 2024\n",
    "## Day 13\n"
   ]
  },
  {
   "cell_type": "markdown",
   "metadata": {},
   "source": [
    "### Part 1"
   ]
  },
  {
   "cell_type": "code",
   "execution_count": 100,
   "metadata": {},
   "outputs": [
    {
     "data": {
      "text/plain": [
       "37901"
      ]
     },
     "execution_count": 100,
     "metadata": {},
     "output_type": "execute_result"
    }
   ],
   "source": [
    "import re\n",
    "import numpy as np\n",
    "\n",
    "filename = \"input.txt\"\n",
    "# filename = \"test_input.txt\"\n",
    "\n",
    "with open( filename ) as file:\n",
    "    data = file.read()\n",
    " \n",
    "prices = np.array( [3, 1] )\n",
    "max_pushes = 100\n",
    "\n",
    "data = data.split(\"\\n\")\n",
    "sep = r\"[XY][+-=]\"\n",
    "mat = np.zeros( (2, 3) )\n",
    "total_cost = 0\n",
    "col = 0 \n",
    "\n",
    "for line in data:\n",
    "    if line == \"\":\n",
    "        col = 0\n",
    "        A = mat[ :, 0:2 ]\n",
    "        b = mat[ :, -1 ]\n",
    "        x = np.linalg.solve( A, b)\n",
    "        \n",
    "        if np.abs( np.sum( x - np.round(x) ) ) <= 1e-9:\n",
    "            if (x <= max_pushes).all():\n",
    "                total_cost += np.dot( x, prices )\n",
    "        continue\n",
    "    \n",
    "    line = re.split( sep, line )[1:]\n",
    "    mat[ :, col  ] = [np.float128( elem.replace( \", \", \"\" ) ) for elem in line]\n",
    "    col += 1\n",
    "    \n",
    "int( total_cost )   # 27463 too low; 37901"
   ]
  },
  {
   "cell_type": "markdown",
   "metadata": {},
   "source": [
    "### Part 2"
   ]
  },
  {
   "cell_type": "code",
   "execution_count": 101,
   "metadata": {},
   "outputs": [
    {
     "data": {
      "text/plain": [
       "77407675412647"
      ]
     },
     "execution_count": 101,
     "metadata": {},
     "output_type": "execute_result"
    }
   ],
   "source": [
    "data = [ elem for elem in data if elem ]\n",
    "measurement_error = 10000000000000\n",
    "\n",
    "mat = np.zeros( (2, 3) )\n",
    "total_cost = 0\n",
    "col = 0 \n",
    "\n",
    "for ii, line in enumerate( data ):\n",
    "    # print(line)\n",
    "    \n",
    "    line = re.split( sep, line )[1:]\n",
    "    mat[ :, col  ] = [np.float128( elem.replace( \", \", \"\" ) ) for elem in line]\n",
    "    col += 1\n",
    "    \n",
    "    if col == 3:\n",
    "        # print(mat)\n",
    "        A = mat[ :, 0:2 ]\n",
    "        b = mat[ :, -1 ] + measurement_error \n",
    "        x = np.linalg.solve( A, b)\n",
    "        # print( x)\n",
    "        # print( np.sum( x - np.round(x) ) )\n",
    "        \n",
    "        if np.abs( np.sum( x - np.round(x) ) ) <= 1e-4:\n",
    "            # print( \"integres\")\n",
    "            # print( \"Solution found!\\n\" )\n",
    "            total_cost += np.dot( x, prices )\n",
    "        # asd =input(\"asd\")\n",
    "        col = 0\n",
    "    \n",
    "int( total_cost )"
   ]
  }
 ],
 "metadata": {
  "kernelspec": {
   "display_name": "Python 3",
   "language": "python",
   "name": "python3"
  },
  "language_info": {
   "codemirror_mode": {
    "name": "ipython",
    "version": 3
   },
   "file_extension": ".py",
   "mimetype": "text/x-python",
   "name": "python",
   "nbconvert_exporter": "python",
   "pygments_lexer": "ipython3",
   "version": "3.10.12"
  }
 },
 "nbformat": 4,
 "nbformat_minor": 2
}
