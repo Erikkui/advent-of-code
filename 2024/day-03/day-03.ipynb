{
 "cells": [
  {
   "cell_type": "markdown",
   "metadata": {},
   "source": [
    "# Advent of Code 2024\n",
    "## Day 03\n"
   ]
  },
  {
   "cell_type": "markdown",
   "metadata": {},
   "source": [
    "### Part 1"
   ]
  },
  {
   "cell_type": "code",
   "execution_count": 139,
   "metadata": {},
   "outputs": [],
   "source": [
    "filename = 'input.txt'\n",
    "# filename = 'test_input.txt'\n",
    "\n",
    "with open( filename ) as file:\n",
    "    lines = file.readlines()"
   ]
  },
  {
   "cell_type": "code",
   "execution_count": 140,
   "metadata": {},
   "outputs": [
    {
     "data": {
      "text/plain": [
       "178538786"
      ]
     },
     "execution_count": 140,
     "metadata": {},
     "output_type": "execute_result"
    }
   ],
   "source": [
    "import re\n",
    "\n",
    "regex_search = r\"mul\\(\\d{1,3},\\d{1,3}\\)\"\n",
    "\n",
    "operations = []\n",
    "for line in lines:\n",
    "    operations.extend( re.findall( regex_search, line ) )\n",
    "\n",
    "result = 0\n",
    "for operation in operations:\n",
    "    numbers = operation[4:-1].split( \",\" )\n",
    "    result += int( numbers[0] ) * int( numbers[1] )\n",
    "    \n",
    "result"
   ]
  },
  {
   "cell_type": "markdown",
   "metadata": {},
   "source": [
    "### Part 2"
   ]
  },
  {
   "cell_type": "code",
   "execution_count": 141,
   "metadata": {},
   "outputs": [
    {
     "data": {
      "text/plain": [
       "102467299"
      ]
     },
     "execution_count": 141,
     "metadata": {},
     "output_type": "execute_result"
    }
   ],
   "source": [
    "import re\n",
    "\n",
    "search_calc = r\"mul\\(\\d{1,3},\\d{1,3}\\)\"\n",
    "search_do = r\"do\\(\\)\"\n",
    "search_dont = r\"don't\\(\\)\"\n",
    "\n",
    "# Concatenating all data into one string\n",
    "data = \"\" \n",
    "for line in lines:\n",
    "    data += line \n",
    "\n",
    "# Finding all multiplicatins and instructions\n",
    "all_instructions = []\n",
    "all_instructions.extend( re.finditer( search_calc, data ) )\n",
    "all_instructions.extend( re.finditer( search_do, data ) )\n",
    "all_instructions.extend( re.finditer( search_dont, data ) )\n",
    "\n",
    "all_instructions_sorted = sorted( all_instructions, key = lambda x: x.span()[0] )\n",
    "\n",
    "result = 0\n",
    "enable_multiplications = True\n",
    "for instruction in all_instructions_sorted:\n",
    "    # print( \"First: \", instruction.group())\n",
    "    if instruction.group() == \"don't()\":\n",
    "        enable_multiplications = False\n",
    "    elif instruction.group() == \"do()\":\n",
    "        enable_multiplications = True\n",
    "    elif enable_multiplications == False:\n",
    "        continue\n",
    "    else:\n",
    "        operation = instruction.group()\n",
    "        numbers = operation[4:-1].split( \",\" )\n",
    "        result += int( numbers[0] ) * int( numbers[1] )\n",
    "           \n",
    "result  #107502320\n"
   ]
  }
 ],
 "metadata": {
  "kernelspec": {
   "display_name": "Python 3",
   "language": "python",
   "name": "python3"
  },
  "language_info": {
   "codemirror_mode": {
    "name": "ipython",
    "version": 3
   },
   "file_extension": ".py",
   "mimetype": "text/x-python",
   "name": "python",
   "nbconvert_exporter": "python",
   "pygments_lexer": "ipython3",
   "version": "3.12.1"
  }
 },
 "nbformat": 4,
 "nbformat_minor": 2
}
