{
 "cells": [
  {
   "cell_type": "markdown",
   "metadata": {},
   "source": [
    "# Advent of Code 2024\n",
    "## Day 05\n"
   ]
  },
  {
   "cell_type": "markdown",
   "metadata": {},
   "source": [
    "### Part 1"
   ]
  },
  {
   "cell_type": "code",
   "execution_count": 35,
   "metadata": {},
   "outputs": [],
   "source": [
    "import numpy as np\n",
    "\n",
    "filename = 'input.txt'\n",
    "# filename = 'test_input.txt'\n",
    "\n",
    "with open( filename ) as file:\n",
    "    lines = file.readlines()\n",
    "    \n",
    "lines = [ line.strip() for line in lines ]\n",
    "\n",
    "section_break_ind = lines.index('')\n",
    "\n",
    "order_rules = lines[ :section_break_ind ]\n",
    "updates = lines[ section_break_ind + 1: ]\n",
    "\n",
    "rules_before = []\n",
    "rules_after = []\n",
    "for line in order_rules:\n",
    "    before, after = line.split('|')\n",
    "    rules_before.append( int( before ) )\n",
    "    rules_after.append( int( after ) )\n",
    "    \n",
    "for ii, update in enumerate( updates ):\n",
    "    update_temp = []\n",
    "    update = update.split(',')\n",
    "    for elem in update:\n",
    "        update_temp.append( int( elem ) )\n",
    "    updates[ii] = np.array( update_temp )\n",
    "    \n",
    "rules_before = np.array( rules_before )\n",
    "rules_after = np.array( rules_after )\n"
   ]
  },
  {
   "cell_type": "code",
   "execution_count": null,
   "metadata": {},
   "outputs": [
    {
     "name": "stdout",
     "output_type": "stream",
     "text": [
      "4774\n"
     ]
    }
   ],
   "source": [
    "# Going through the updates and checking the rules\n",
    "correct_updates = []\n",
    "false_updates = []\n",
    "for update in updates:\n",
    "    update_length = len( update )\n",
    "    correct_check = True\n",
    "    for ii, page in enumerate( update[ :-1 ] ):\n",
    "        page_rules_inds = np.where( rules_before == page )   # Finding rules for current page \n",
    "        pages_after = update[ ii+1: ]                # Pages after the current page\n",
    "        all_after_pages = rules_after[ page_rules_inds ]     # Set of all \"after rules\" for the current page\n",
    "        \n",
    "        if sum( np.isin( pages_after, all_after_pages ) ) != update_length - ii - 1:\n",
    "            false_updates.append( update )\n",
    "            correct_check = False\n",
    "            break\n",
    "       \n",
    "    if ii == update_length - 2 and correct_check:\n",
    "        correct_updates.append( update )\n",
    "      \n",
    "middle_sum = 0\n",
    "for update in correct_updates:\n",
    "    update_length = len( update )\n",
    "    middle_num = update[ update_length // 2 ]\n",
    "    middle_sum += middle_num\n",
    "    \n",
    "print( middle_sum ) # 4774\n",
    "        "
   ]
  },
  {
   "cell_type": "markdown",
   "metadata": {},
   "source": [
    "### Part 2"
   ]
  },
  {
   "cell_type": "code",
   "execution_count": null,
   "metadata": {},
   "outputs": [
    {
     "name": "stdout",
     "output_type": "stream",
     "text": [
      "6004\n"
     ]
    }
   ],
   "source": [
    "corrected_falses = []\n",
    "for update in false_updates:\n",
    "    update_length = len( update )\n",
    "    corrected_pages = np.zeros( (2, update_length), dtype=int )   # First row: page number; second row: amount of pages after\n",
    "    \n",
    "    # Find rules for all update pages\n",
    "    for ii, page in enumerate( update ):\n",
    "        page_rules_inds = np.where( rules_before == page )   # Finding rules for current page \n",
    "        all_after_pages = rules_after[ page_rules_inds ]     # Set of all \"after rules\" for the current page\n",
    "        other_pages = np.setdiff1d( update, page )         # All other pages than the current one\n",
    "        \n",
    "        pages_after_current = sum( np.isin( other_pages, all_after_pages ) ) \n",
    "        corrected_pages[ 0, ii ] = page\n",
    "        corrected_pages[ 1, ii ] = pages_after_current\n",
    "        \n",
    "    # Sort in descending order according to the amount of pages after\n",
    "    corrected_pages_sorting_inds = np.argsort( corrected_pages[ 1, : ] )[::-1]\n",
    "    corrected_pages = corrected_pages[ :, corrected_pages_sorting_inds ]\n",
    "    \n",
    "    corrected_falses.append( corrected_pages[ 0, : ] )\n",
    "    \n",
    "middle_sum = 0\n",
    "for update in corrected_falses:\n",
    "    update_length = len( update )\n",
    "    middle_num = update[ update_length // 2 ]\n",
    "    middle_sum += middle_num\n",
    "    \n",
    "print( middle_sum ) # 6004"
   ]
  }
 ],
 "metadata": {
  "kernelspec": {
   "display_name": "Python 3",
   "language": "python",
   "name": "python3"
  },
  "language_info": {
   "codemirror_mode": {
    "name": "ipython",
    "version": 3
   },
   "file_extension": ".py",
   "mimetype": "text/x-python",
   "name": "python",
   "nbconvert_exporter": "python",
   "pygments_lexer": "ipython3",
   "version": "3.10.12"
  }
 },
 "nbformat": 4,
 "nbformat_minor": 2
}
