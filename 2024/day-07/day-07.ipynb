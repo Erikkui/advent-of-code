{
 "cells": [
  {
   "cell_type": "markdown",
   "metadata": {},
   "source": [
    "# Advent of Code 2024\n",
    "## Day 07\n"
   ]
  },
  {
   "cell_type": "markdown",
   "metadata": {},
   "source": [
    "### Part 1"
   ]
  },
  {
   "cell_type": "code",
   "execution_count": 91,
   "metadata": {},
   "outputs": [],
   "source": [
    "import numpy as np\n",
    "\n",
    "filename = 'input.txt'\n",
    "filename = 'test_input.txt'\n",
    "\n",
    "with open( filename ) as file:\n",
    "    lines = file.readlines()\n",
    "    \n",
    "lines_temp = [ line.strip() for line in lines ]\n",
    "\n",
    "eqns = []\n",
    "results = []\n",
    "for line in lines_temp:\n",
    "    line = line.split(\" \")\n",
    "    line[0] = line[0][ :-1 ]\n",
    "    results.append( line[0] )\n",
    "    eqns.append( line[ 1: ] )"
   ]
  },
  {
   "cell_type": "code",
   "execution_count": 92,
   "metadata": {},
   "outputs": [
    {
     "data": {
      "text/plain": [
       "'1111'"
      ]
     },
     "execution_count": 92,
     "metadata": {},
     "output_type": "execute_result"
    }
   ],
   "source": [
    "from itertools import combinations_with_replacement\n",
    "\n",
    "num = 15\n",
    "\n",
    "ans = format(num, 'b')\n",
    "\n",
    "\n",
    "ans"
   ]
  },
  {
   "cell_type": "code",
   "execution_count": 93,
   "metadata": {},
   "outputs": [
    {
     "data": {
      "text/plain": [
       "[0, 0, 0, 0, 1, 1]"
      ]
     },
     "execution_count": 93,
     "metadata": {},
     "output_type": "execute_result"
    }
   ],
   "source": [
    "asd = [0,0,0,0]\n",
    "asdf = [1, 1]\n",
    "asdq = asd + asdf\n",
    "\n",
    "asdq"
   ]
  },
  {
   "cell_type": "code",
   "execution_count": null,
   "metadata": {},
   "outputs": [
    {
     "name": "stdout",
     "output_type": "stream",
     "text": [
      "[0]\n",
      "['0']\n",
      "['0', '0'] \n",
      "\n",
      "[0]\n",
      "['1']\n",
      "['0', '1'] \n",
      "\n",
      "[0, 0]\n",
      "['0']\n",
      "['0', '0', '0'] \n",
      "\n",
      "[0, 0]\n",
      "['1']\n",
      "['0', '0', '1'] \n",
      "\n",
      "[0]\n",
      "['1', '0']\n",
      "['0', '1', '0'] \n",
      "\n",
      "[0]\n",
      "['1', '1']\n",
      "['0', '1', '1'] \n",
      "\n",
      "[0]\n",
      "['0']\n",
      "['0', '0'] \n",
      "\n",
      "[0]\n",
      "['1']\n",
      "['0', '1'] \n",
      "\n",
      "[0]\n",
      "['0']\n",
      "['0', '0'] \n",
      "\n",
      "[0]\n",
      "['1']\n",
      "['0', '1'] \n",
      "\n",
      "[0, 0]\n",
      "['0']\n",
      "['0', '0', '0'] \n",
      "\n",
      "[0, 0]\n",
      "['1']\n",
      "['0', '0', '1'] \n",
      "\n",
      "[0]\n",
      "['1', '0']\n",
      "['0', '1', '0'] \n",
      "\n",
      "[0]\n",
      "['1', '1']\n",
      "['0', '1', '1'] \n",
      "\n",
      "[0, 0]\n",
      "['0']\n",
      "['0', '0', '0'] \n",
      "\n",
      "[0, 0]\n",
      "['1']\n",
      "['0', '0', '1'] \n",
      "\n",
      "[0]\n",
      "['1', '0']\n",
      "['0', '1', '0'] \n",
      "\n",
      "[0]\n",
      "['1', '1']\n",
      "['0', '1', '1'] \n",
      "\n"
     ]
    }
   ],
   "source": [
    "# + = 0, * = 1\n",
    "true_eqn_inds = []\n",
    "for ii, eqn in enumerate( eqns ):\n",
    "    eqn_calc = eqn\n",
    "    set_size = len( eqn ) - 1\n",
    "    total_combinations = 2 ** set_size\n",
    "    k = 0\n",
    "    \n",
    "    while k < total_combinations:\n",
    "        operator_placement = list( format( k, 'b' ) )\n",
    "        \n",
    "        if len( operator_placement ) < set_size:\n",
    "            diff = set_size - len( operator_placement )\n",
    "            operator_placement = diff*[\"0\"] + operator_placement\n",
    "        \n",
    "        for jj in range( set_size ):\n",
    "            \n",
    "            if operator_placement[jj] == \"0\":\n",
    "                temp = eqn[jj] + eqn[ jj+1 ]\n",
    "                eqn_calc[ jj+1 ] = temp\n",
    "            else:\n",
    "                temp = eqn[jj] * eqn[ jj+1 ]\n",
    "                eqn_calc[ jj+1 ] = temp\n",
    "                \n",
    "            if temp > results[ii]:\n",
    "                break\n",
    "                \n",
    "        if eqn_calc[-1] == results[ii]:\n",
    "            true_eqn_inds.append(ii)\n",
    "            break\n",
    "        elif eqn_calc > results[ii]:\n",
    "            break\n",
    "        \n",
    "        k += 1"
   ]
  },
  {
   "cell_type": "markdown",
   "metadata": {},
   "source": [
    "### Part 2"
   ]
  },
  {
   "cell_type": "code",
   "execution_count": 95,
   "metadata": {},
   "outputs": [
    {
     "ename": "TypeError",
     "evalue": "list indices must be integers or slices, not tuple",
     "output_type": "error",
     "traceback": [
      "\u001b[0;31m---------------------------------------------------------------------------\u001b[0m",
      "\u001b[0;31mTypeError\u001b[0m                                 Traceback (most recent call last)",
      "Cell \u001b[0;32mIn[95], line 1\u001b[0m\n\u001b[0;32m----> 1\u001b[0m uniques \u001b[38;5;241m=\u001b[39m np\u001b[38;5;241m.\u001b[39munique( \u001b[43mdata\u001b[49m\u001b[43m[\u001b[49m\u001b[43m:\u001b[49m\u001b[43m,\u001b[49m\u001b[43m \u001b[49m\u001b[38;5;241;43m0\u001b[39;49m\u001b[43m]\u001b[49m )\n\u001b[1;32m      3\u001b[0m occurrences \u001b[38;5;241m=\u001b[39m [ (data[ :, \u001b[38;5;241m1\u001b[39m] \u001b[38;5;241m==\u001b[39m number)\u001b[38;5;241m.\u001b[39msum() \u001b[38;5;28;01mfor\u001b[39;00m number \u001b[38;5;129;01min\u001b[39;00m uniques ]\n\u001b[1;32m      5\u001b[0m \u001b[38;5;28mprint\u001b[39m( \u001b[38;5;28msum\u001b[39m( uniques \u001b[38;5;241m*\u001b[39m occurrences ) )\n",
      "\u001b[0;31mTypeError\u001b[0m: list indices must be integers or slices, not tuple"
     ]
    }
   ],
   "source": [
    "uniques = np.unique( data[:, 0] )\n",
    "\n",
    "occurrences = [ (data[ :, 1] == number).sum() for number in uniques ]\n",
    "\n",
    "print( sum( uniques * occurrences ) )"
   ]
  }
 ],
 "metadata": {
  "kernelspec": {
   "display_name": "Python 3",
   "language": "python",
   "name": "python3"
  },
  "language_info": {
   "codemirror_mode": {
    "name": "ipython",
    "version": 3
   },
   "file_extension": ".py",
   "mimetype": "text/x-python",
   "name": "python",
   "nbconvert_exporter": "python",
   "pygments_lexer": "ipython3",
   "version": "3.10.12"
  }
 },
 "nbformat": 4,
 "nbformat_minor": 2
}
