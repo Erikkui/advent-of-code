{
 "cells": [
  {
   "cell_type": "markdown",
   "metadata": {},
   "source": [
    "# Advent of Code 2024\n",
    "## Day 07\n"
   ]
  },
  {
   "cell_type": "markdown",
   "metadata": {},
   "source": [
    "### Part 1"
   ]
  },
  {
   "cell_type": "code",
   "execution_count": 36,
   "metadata": {},
   "outputs": [
    {
     "data": {
      "text/plain": [
       "12"
      ]
     },
     "execution_count": 36,
     "metadata": {},
     "output_type": "execute_result"
    }
   ],
   "source": [
    "import numpy as np\n",
    "\n",
    "filename = 'input.txt'\n",
    "# filename = 'test_input.txt'\n",
    "\n",
    "with open( filename ) as file:\n",
    "    lines = file.readlines()\n",
    "    \n",
    "lines_temp = [ line.strip() for line in lines ]\n",
    "\n",
    "eqns = []\n",
    "results = []\n",
    "for line in lines_temp:\n",
    "    line = line.split(\" \")\n",
    "    line[0] = line[0][ :-1 ]\n",
    "    results.append( int( line[0] ) )\n",
    "    eqns_to_int = list( map(int, line[1:]) )\n",
    "    eqns.append( eqns_to_int )\n",
    "    \n",
    "asd = list( map( len, eqns ) )   \n",
    "\n",
    "max( asd )"
   ]
  },
  {
   "cell_type": "code",
   "execution_count": 37,
   "metadata": {},
   "outputs": [
    {
     "data": {
      "text/plain": [
       "1298103531759"
      ]
     },
     "execution_count": 37,
     "metadata": {},
     "output_type": "execute_result"
    }
   ],
   "source": [
    "import copy\n",
    "\n",
    "true_eqn_inds = []\n",
    "for ii, eqn in enumerate( eqns ):\n",
    "    set_size = len( eqn ) - 1\n",
    "    total_combinations = 2 ** set_size\n",
    "    k = 0\n",
    "    \n",
    "    # + = 0, * = 1\n",
    "    while k < total_combinations:\n",
    "        operator_placement = list( format( k, 'b' ) )\n",
    "        \n",
    "        if len( operator_placement ) < set_size:\n",
    "            diff = set_size - len( operator_placement )\n",
    "            operator_placement = diff*[\"0\"] + operator_placement\n",
    "        \n",
    "        eqn_calc = copy.deepcopy( eqn )\n",
    "        for jj in range( set_size ):\n",
    "            \n",
    "            if operator_placement[jj] == \"0\":\n",
    "                temp = eqn_calc[jj] + eqn_calc[ jj+1 ]\n",
    "                eqn_calc[ jj+1 ] = temp\n",
    "            else:\n",
    "                temp = eqn_calc[jj] * eqn_calc[ jj+1 ]\n",
    "                eqn_calc[ jj+1 ] = temp\n",
    "                \n",
    "            if temp > results[ii]:\n",
    "                break\n",
    "                 \n",
    "        if temp == results[ii]:\n",
    "            true_eqn_inds.append(ii)\n",
    "            break\n",
    "        \n",
    "        k += 1\n",
    "   \n",
    "ans = 0\n",
    "for ind in true_eqn_inds:\n",
    "    ans += results[ ind ]\n",
    "    \n",
    "ans"
   ]
  },
  {
   "cell_type": "markdown",
   "metadata": {},
   "source": [
    "### Part 2"
   ]
  },
  {
   "cell_type": "code",
   "execution_count": 38,
   "metadata": {},
   "outputs": [
    {
     "data": {
      "text/plain": [
       "140575048428831"
      ]
     },
     "execution_count": 38,
     "metadata": {},
     "output_type": "execute_result"
    }
   ],
   "source": [
    "true_eqn_inds = []\n",
    "for ii, eqn in enumerate( eqns ):\n",
    "    set_size = len( eqn ) - 1\n",
    "    total_combinations = 3 ** set_size\n",
    "    k = 0\n",
    "    \n",
    "    # + = 0, * = 1\n",
    "    while k < total_combinations:\n",
    "        ternary = np.base_repr( k, base=3 )\n",
    "        operator_placement = list( ternary )\n",
    "        \n",
    "        if len( operator_placement ) < set_size:\n",
    "            diff = set_size - len( operator_placement )\n",
    "            operator_placement = diff*[\"0\"] + operator_placement\n",
    "        \n",
    "        eqn_calc = copy.deepcopy( eqn )\n",
    "        for jj in range( set_size ):\n",
    "            \n",
    "            if operator_placement[jj] == \"0\":\n",
    "                temp = eqn_calc[jj] + eqn_calc[ jj+1 ]\n",
    "                eqn_calc[ jj+1 ] = temp\n",
    "            elif operator_placement[jj] == \"1\":\n",
    "                temp = eqn_calc[jj] * eqn_calc[ jj+1 ]\n",
    "                eqn_calc[ jj+1 ] = temp\n",
    "            else:\n",
    "                temp = int( str( eqn_calc[jj] ) + str( eqn_calc[ jj+1 ] ) )\n",
    "                eqn_calc[ jj+1 ] = temp \n",
    "            if temp > results[ii]:\n",
    "                break\n",
    "                 \n",
    "        if temp == results[ii]:\n",
    "            true_eqn_inds.append(ii)\n",
    "            break\n",
    "        \n",
    "        k += 1\n",
    "   \n",
    "ans = 0\n",
    "for ind in true_eqn_inds:\n",
    "    ans += results[ ind ]\n",
    "    \n",
    "ans"
   ]
  }
 ],
 "metadata": {
  "kernelspec": {
   "display_name": "Python 3",
   "language": "python",
   "name": "python3"
  },
  "language_info": {
   "codemirror_mode": {
    "name": "ipython",
    "version": 3
   },
   "file_extension": ".py",
   "mimetype": "text/x-python",
   "name": "python",
   "nbconvert_exporter": "python",
   "pygments_lexer": "ipython3",
   "version": "3.12.1"
  }
 },
 "nbformat": 4,
 "nbformat_minor": 2
}
