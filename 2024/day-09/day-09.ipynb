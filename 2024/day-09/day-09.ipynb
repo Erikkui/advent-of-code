{
 "cells": [
  {
   "cell_type": "markdown",
   "metadata": {},
   "source": [
    "# Advent of Code 2024\n",
    "## Day 09\n"
   ]
  },
  {
   "cell_type": "markdown",
   "metadata": {},
   "source": [
    "### Part 1"
   ]
  },
  {
   "cell_type": "code",
   "execution_count": 95,
   "metadata": {},
   "outputs": [
    {
     "data": {
      "text/plain": [
       "({0: [0, 2, 28],\n",
       "  1: [1, 3, 29],\n",
       "  2: [2, 1, 30],\n",
       "  3: [3, 3, 31],\n",
       "  4: [4, 2, 32],\n",
       "  5: [5, 4, 33],\n",
       "  6: [6, 4, 34],\n",
       "  7: [7, 3, 35],\n",
       "  8: [8, 4, 36],\n",
       "  9: [9, 2, 37]},\n",
       " [3, 3, 3, 1, 1, 1, 1, 1, 0],\n",
       " 28)"
      ]
     },
     "execution_count": 95,
     "metadata": {},
     "output_type": "execute_result"
    }
   ],
   "source": [
    "filename = 'input.txt'\n",
    "filename = 'test_input.txt'\n",
    "\n",
    "with open( filename ) as file:\n",
    "    data = file.read()\n",
    "    \n",
    "data\n",
    "\n",
    "files = [ int(x) for x in data[0::2] ]\n",
    "free_blocks = [ int(x) for x in data[1::2] ]\n",
    "\n",
    "total_files = sum( files ) \n",
    "\n",
    "file_dict = {}\n",
    "data_number = 0\n",
    "for ii in range( len( files ) ):\n",
    "    file_dict[ ii ] = [ data_number, int( files[ii] ), total_files+ii ]\n",
    "    data_number += 1\n",
    "        \n",
    "file_dict, free_blocks, total_files"
   ]
  },
  {
   "cell_type": "code",
   "execution_count": 96,
   "metadata": {},
   "outputs": [
    {
     "name": "stdout",
     "output_type": "stream",
     "text": [
      "1928\n"
     ]
    }
   ],
   "source": [
    "import numpy as np\n",
    "\n",
    "new_file_system = []\n",
    "ans = 0\n",
    "prev_start = 0\n",
    "free_ind = 0\n",
    "file_ind = 0\n",
    "file_end_ind = len( file_dict ) - 1\n",
    "block_end = 0\n",
    "\n",
    "    \n",
    "while True:\n",
    "\n",
    "    file_num, file_length, _ = file_dict[ file_ind ]\n",
    "    # print( file_num, file_length )\n",
    "\n",
    "    block_end = prev_start + file_length\n",
    "    # print( file_length )\n",
    "\n",
    "    coefficients = np.arange( prev_start, block_end )\n",
    "    files = file_num*np.ones( file_length )\n",
    "\n",
    "    ans += sum( coefficients * files )\n",
    "    \n",
    "    if block_end >= total_files:\n",
    "        break\n",
    "    \n",
    "    prev_start = block_end\n",
    "    file_ind += 1\n",
    "    free_length = free_blocks[ free_ind ]\n",
    "    if free_length > 0:\n",
    "        while free_length > 0:\n",
    "        \n",
    "        \n",
    "            file_num, file_length, _ = file_dict[ file_end_ind ] \n",
    "            \n",
    "            if free_length == file_length:\n",
    "                block_end = prev_start + file_length\n",
    "                \n",
    "                coefficients = np.arange( prev_start, block_end )\n",
    "                files = file_num*np.ones( file_length )\n",
    "                ans += sum( coefficients * files )\n",
    "                \n",
    "                free_blocks[ free_ind ] = 0\n",
    "                prev_start = block_end\n",
    "                file_end_ind -= 1\n",
    "                free_ind += 1\n",
    "                free_length -= file_length\n",
    "                \n",
    "            elif free_length > file_length:\n",
    "                block_end = prev_start + file_length\n",
    "                \n",
    "                coefficients = np.arange( prev_start, block_end )\n",
    "                files = file_num*np.ones( file_length )\n",
    "                ans += sum( coefficients * files )\n",
    "            \n",
    "                prev_start = block_end\n",
    "                free_blocks[ free_ind ] -= file_length\n",
    "                free_length -= file_length\n",
    "                if free_blocks[ free_ind ] < 1:\n",
    "                    free_ind += 1\n",
    "                file_end_ind -= 1\n",
    "            else:\n",
    "                block_end = prev_start + free_length\n",
    "                \n",
    "                coefficients = np.arange( prev_start, block_end )\n",
    "                files = file_num*np.ones( free_length )\n",
    "                ans += sum( coefficients * files )\n",
    "                \n",
    "                free_blocks[ free_ind ] = 0\n",
    "                prev_start = block_end\n",
    "                file_dict[ file_end_ind ][1] -= free_length\n",
    "                free_length -= file_length\n",
    "                if file_dict[ file_ind ][1] < 1:\n",
    "                    file_end_ind += 1\n",
    "                free_ind += 1\n",
    "            \n",
    "        if block_end >= total_files:\n",
    "            break\n",
    "    else:\n",
    "        free_ind += 1\n",
    "        \n",
    "print( int(ans) )"
   ]
  },
  {
   "cell_type": "markdown",
   "metadata": {},
   "source": [
    "### Part 2"
   ]
  },
  {
   "cell_type": "code",
   "execution_count": 105,
   "metadata": {},
   "outputs": [
    {
     "data": {
      "text/plain": [
       "{0: [0, 2, 0],\n",
       " 1: [1, 3, 2],\n",
       " 2: [2, 1, 5],\n",
       " 3: [3, 3, 6],\n",
       " 4: [4, 2, 9],\n",
       " 5: [5, 4, 11],\n",
       " 6: [6, 1, 15],\n",
       " 7: [7, 3, 16],\n",
       " 8: [8, 3, 19],\n",
       " 9: [9, 2, 22]}"
      ]
     },
     "execution_count": 105,
     "metadata": {},
     "output_type": "execute_result"
    }
   ],
   "source": [
    "new_filesystem = []\n",
    "ans = 0\n",
    "prev_start = 0\n",
    "free_ind = 0\n",
    "file_ind = 0\n",
    "file_end_ind = len( file_dict ) - 1\n",
    "block_end = 0\n",
    "end_loops = False\n",
    "    \n",
    "while True:\n",
    "    if end_loops:\n",
    "        break\n",
    "\n",
    "    file_num, file_length, _ = file_dict[ file_ind ]\n",
    "\n",
    "    block_end = prev_start + file_length\n",
    "\n",
    "    file_dict[ file_ind ][2] = prev_start\n",
    "    file_dict = dict( sorted( file_dict.items(), key=lambda item: item[1][2], reverse=False ) )\n",
    "    # new_filesystem.append( file_dict[ file_ind ] )\n",
    "\n",
    "    # ans += sum( coefficients * files )\n",
    "    \n",
    "    prev_start = block_end\n",
    "    file_ind += 1\n",
    "    \n",
    "    if file_ind >= file_end_ind:\n",
    "        break\n",
    "    \n",
    "    free_length = free_blocks[ free_ind ]\n",
    "    if free_length > 0:\n",
    "        \n",
    "        while True:\n",
    "            file_num, file_length, _ = file_dict[ file_end_ind ] \n",
    "            \n",
    "            if free_length == file_length:\n",
    "                file_dict[ file_end_ind ][2] = prev_start\n",
    "                \n",
    "                # new_filesystem.append( file_dict[ file_end_ind ] )\n",
    "                file_dict = dict( sorted( file_dict.items(), key=lambda item: item[1][2], reverse=False ) )\n",
    "                \n",
    "                free_blocks.pop( free_ind )\n",
    "                free_ind = 0\n",
    "                \n",
    "                block_end = prev_start + file_length\n",
    "                prev_start = block_end\n",
    "                break\n",
    "            \n",
    "            elif free_length > file_length:\n",
    "                free_blocks[ free_ind ] -= file_length\n",
    "                file_dict[ file_end_ind ][2] = prev_start\n",
    "                \n",
    "                # new_filesystem.append( file_dict[ file_end_ind ] )\n",
    "                file_dict = dict( sorted( file_dict.items(), key=lambda item: item[1][2], reverse=False ) )\n",
    "                \n",
    "                file_end_ind = len( file_dict ) - 1\n",
    "                free_length -= file_length\n",
    "\n",
    "                block_end = prev_start + file_length\n",
    "                prev_start = block_end\n",
    "\n",
    "            else:\n",
    "                file_end_ind -= 1\n",
    "\n",
    "                if file_end_ind < 1:\n",
    "                    free_ind += 1\n",
    "                    if free_ind >= len( free_blocks ):\n",
    "                        end_loops = True\n",
    "                        break\n",
    "                    \n",
    "                    file_end_ind = len( file_dict ) - 1\n",
    "                    \n",
    "                    block_end = prev_start + free_length\n",
    "                    prev_start = block_end\n",
    "                \n",
    "                    free_length = free_blocks[ free_ind ]\n",
    "                    break\n",
    "                \n",
    "file_dict"
   ]
  },
  {
   "cell_type": "code",
   "execution_count": 109,
   "metadata": {},
   "outputs": [
    {
     "data": {
      "text/plain": [
       "0"
      ]
     },
     "execution_count": 109,
     "metadata": {},
     "output_type": "execute_result"
    }
   ],
   "source": [
    "list( file_dict.keys() )[0]"
   ]
  },
  {
   "cell_type": "code",
   "execution_count": null,
   "metadata": {},
   "outputs": [],
   "source": [
    "file_dict.keys()"
   ]
  }
 ],
 "metadata": {
  "kernelspec": {
   "display_name": "Python 3",
   "language": "python",
   "name": "python3"
  },
  "language_info": {
   "codemirror_mode": {
    "name": "ipython",
    "version": 3
   },
   "file_extension": ".py",
   "mimetype": "text/x-python",
   "name": "python",
   "nbconvert_exporter": "python",
   "pygments_lexer": "ipython3",
   "version": "3.10.12"
  }
 },
 "nbformat": 4,
 "nbformat_minor": 2
}
