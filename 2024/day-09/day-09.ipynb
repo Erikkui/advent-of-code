{
 "cells": [
  {
   "cell_type": "markdown",
   "metadata": {},
   "source": [
    "# Advent of Code 2024\n",
    "## Day 09\n"
   ]
  },
  {
   "cell_type": "markdown",
   "metadata": {},
   "source": [
    "### Part 1"
   ]
  },
  {
   "cell_type": "code",
   "execution_count": 66,
   "metadata": {},
   "outputs": [],
   "source": [
    "filename = 'input.txt'\n",
    "# filename = 'test_input.txt'\n",
    "\n",
    "with open( filename ) as file:\n",
    "    data = file.read()\n",
    "    \n",
    "data\n",
    "\n",
    "files = [ int(x) for x in data[0::2] ]\n",
    "free_blocks = [ int(x) for x in data[1::2] ]\n",
    "\n",
    "total_files = sum( files ) \n",
    "\n",
    "file_dict = {}\n",
    "data_number = 0\n",
    "for ii in range( len( files ) ):\n",
    "    file_dict[ ii ] = [ data_number, int( files[ii] ) ]\n",
    "    data_number += 1\n",
    "        \n",
    "# file_dict, free_blocks, total_files"
   ]
  },
  {
   "cell_type": "code",
   "execution_count": 67,
   "metadata": {},
   "outputs": [
    {
     "name": "stdout",
     "output_type": "stream",
     "text": [
      "6307275788409\n"
     ]
    }
   ],
   "source": [
    "import numpy as np\n",
    "\n",
    "new_file_system = []\n",
    "ans = 0\n",
    "prev_start = 0\n",
    "free_ind = 0\n",
    "file_ind = 0\n",
    "file_end_ind = len( file_dict ) - 1\n",
    "block_end = 0\n",
    "\n",
    "    \n",
    "while True:\n",
    "\n",
    "    file_num, file_length = file_dict[ file_ind ]\n",
    "    # print( file_num, file_length )\n",
    "\n",
    "    block_end = prev_start + file_length\n",
    "    # print( file_length )\n",
    "\n",
    "    coefficients = np.arange( prev_start, block_end )\n",
    "    files = file_num*np.ones( file_length )\n",
    "\n",
    "    ans += sum( coefficients * files )\n",
    "    \n",
    "    if block_end >= total_files:\n",
    "        break\n",
    "    \n",
    "    prev_start = block_end\n",
    "    file_ind += 1\n",
    "    free_length = free_blocks[ free_ind ]\n",
    "    if free_length > 0:\n",
    "        while free_length > 0:\n",
    "        \n",
    "        \n",
    "            file_num, file_length = file_dict[ file_end_ind ] \n",
    "            \n",
    "            if free_length == file_length:\n",
    "                block_end = prev_start + file_length\n",
    "                \n",
    "                coefficients = np.arange( prev_start, block_end )\n",
    "                files = file_num*np.ones( file_length )\n",
    "                ans += sum( coefficients * files )\n",
    "                \n",
    "                free_blocks[ free_ind ] = 0\n",
    "                prev_start = block_end\n",
    "                file_end_ind -= 1\n",
    "                free_ind += 1\n",
    "                free_length -= file_length\n",
    "                \n",
    "            elif free_length > file_length:\n",
    "                block_end = prev_start + file_length\n",
    "                \n",
    "                coefficients = np.arange( prev_start, block_end )\n",
    "                files = file_num*np.ones( file_length )\n",
    "                ans += sum( coefficients * files )\n",
    "            \n",
    "                prev_start = block_end\n",
    "                free_blocks[ free_ind ] -= file_length\n",
    "                free_length -= file_length\n",
    "                if free_blocks[ free_ind ] < 1:\n",
    "                    free_ind += 1\n",
    "                file_end_ind -= 1\n",
    "            else:\n",
    "                block_end = prev_start + free_length\n",
    "                \n",
    "                coefficients = np.arange( prev_start, block_end )\n",
    "                files = file_num*np.ones( free_length )\n",
    "                ans += sum( coefficients * files )\n",
    "                \n",
    "                free_blocks[ free_ind ] = 0\n",
    "                prev_start = block_end\n",
    "                file_dict[ file_end_ind ][1] -= free_length\n",
    "                free_length -= file_length\n",
    "                if file_dict[ file_ind ][1] < 1:\n",
    "                    file_end_ind += 1\n",
    "                free_ind += 1\n",
    "            \n",
    "        if block_end >= total_files:\n",
    "            break\n",
    "    else:\n",
    "        free_ind += 1\n",
    "        \n",
    "print( int(ans) )"
   ]
  },
  {
   "cell_type": "markdown",
   "metadata": {},
   "source": [
    "### Part 2"
   ]
  }
 ],
 "metadata": {
  "kernelspec": {
   "display_name": "Python 3",
   "language": "python",
   "name": "python3"
  },
  "language_info": {
   "codemirror_mode": {
    "name": "ipython",
    "version": 3
   },
   "file_extension": ".py",
   "mimetype": "text/x-python",
   "name": "python",
   "nbconvert_exporter": "python",
   "pygments_lexer": "ipython3",
   "version": "3.10.12"
  }
 },
 "nbformat": 4,
 "nbformat_minor": 2
}
